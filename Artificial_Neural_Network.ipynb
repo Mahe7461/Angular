{
  "nbformat": 4,
  "nbformat_minor": 0,
  "metadata": {
    "colab": {
      "provenance": [],
      "include_colab_link": true
    },
    "kernelspec": {
      "name": "python3",
      "display_name": "Python 3"
    }
  },
  "cells": [
    {
      "cell_type": "markdown",
      "metadata": {
        "id": "view-in-github",
        "colab_type": "text"
      },
      "source": [
        "<a href=\"https://colab.research.google.com/github/Mahe7461/Angular/blob/main/Artificial_Neural_Network.ipynb\" target=\"_parent\"><img src=\"https://colab.research.google.com/assets/colab-badge.svg\" alt=\"Open In Colab\"/></a>"
      ]
    },
    {
      "cell_type": "markdown",
      "metadata": {
        "id": "3cbb7fRy-eyr"
      },
      "source": [
        "# Artificial Neural Network"
      ]
    },
    {
      "cell_type": "markdown",
      "metadata": {
        "id": "8sNDnxE2-pwE"
      },
      "source": [
        "### Importing the libraries"
      ]
    },
    {
      "cell_type": "code",
      "metadata": {
        "id": "lxChR1Rk-umf"
      },
      "source": [
        "import numpy as np\n",
        "import pandas as pd\n",
        "import tensorflow as tf"
      ],
      "execution_count": 1,
      "outputs": []
    },
    {
      "cell_type": "code",
      "metadata": {
        "id": "uBTqR3nacj0e",
        "colab": {
          "base_uri": "https://localhost:8080/",
          "height": 34
        },
        "outputId": "4c0bd183-e424-429a-9fba-ceb841c06888"
      },
      "source": [
        "tf.__version__"
      ],
      "execution_count": null,
      "outputs": [
        {
          "output_type": "execute_result",
          "data": {
            "text/plain": [
              "'2.2.0-rc2'"
            ]
          },
          "metadata": {
            "tags": []
          },
          "execution_count": 2
        }
      ]
    },
    {
      "cell_type": "markdown",
      "metadata": {
        "id": "AG3FQEch-yuA"
      },
      "source": [
        "## Part 1 - Data Preprocessing"
      ]
    },
    {
      "cell_type": "markdown",
      "metadata": {
        "id": "-4zq8Mza_D9O"
      },
      "source": [
        "### Importing the dataset"
      ]
    },
    {
      "cell_type": "code",
      "metadata": {
        "id": "B9CV13Co_HHM",
        "colab": {
          "base_uri": "https://localhost:8080/"
        },
        "outputId": "e8170f8b-9bc4-4171-84c6-d4af66dd09e9"
      },
      "source": [
        "data = pd.read_csv('/content/drive/MyDrive/psahkprod_orders_cleared.csv')\n",
        "data.dropna(inplace=True)\n",
        "data['invoice_date'] = pd.to_datetime(data['invoice_date'])\n",
        "data['invoice_year'] = data['invoice_date'].dt.year\n",
        "print(data)\n",
        "\n",
        "# Sort the data by 'invoice_date' in ascending order\n",
        "data.sort_values(by='invoice_date', inplace=True)\n",
        "\n",
        "# Group data by 'id_customer' and aggregate total_paid as sum\n",
        "cus_data= data.groupby(['id_customer','invoice_year'])['total_paid'].agg(np.sum)\n",
        "df=cus_data.to_frame()\n",
        "print(df)\n",
        "df.to_csv('test.csv')\n",
        "# X = dataset.iloc[:, :-1].values\n",
        "# y = dataset.iloc[:, -1].values"
      ],
      "execution_count": 2,
      "outputs": [
        {
          "output_type": "stream",
          "name": "stdout",
          "text": [
            "       id_customer  total_paid invoice_date  invoice_year\n",
            "0              1.0     1322.00   2016-06-23          2016\n",
            "1              1.0      291.00   2016-02-10          2016\n",
            "2              1.0      361.00   2016-06-11          2016\n",
            "3              1.0      247.50   2016-12-20          2016\n",
            "4              1.0     1201.50   2016-12-20          2016\n",
            "...            ...         ...          ...           ...\n",
            "45060       5993.0      828.71   2023-02-01          2023\n",
            "45061       6053.0      502.16   2023-01-19          2023\n",
            "45062       6078.0      275.64   2023-01-25          2023\n",
            "45063       6078.0      440.75   2023-01-31          2023\n",
            "45064       6122.0      435.00   2023-07-02          2023\n",
            "\n",
            "[44985 rows x 4 columns]\n",
            "                          total_paid\n",
            "id_customer invoice_year            \n",
            "1.0         2016             3670.50\n",
            "            2017             5074.70\n",
            "            2018             2408.75\n",
            "            2019             4561.10\n",
            "            2020             2547.20\n",
            "...                              ...\n",
            "5895.0      2022              848.48\n",
            "5993.0      2023              828.71\n",
            "6053.0      2023              502.16\n",
            "6078.0      2023              716.39\n",
            "6122.0      2023              435.00\n",
            "\n",
            "[5015 rows x 1 columns]\n"
          ]
        }
      ]
    },
    {
      "cell_type": "code",
      "source": [
        "dataset = pd.read_csv('/content/test.csv')\n",
        "dataset['total_paid']=dataset['total_paid'].astype(int)\n",
        "dataset['id_customer']=dataset['id_customer'].astype(int)\n",
        "print(dataset)\n",
        "X = dataset.iloc[:, :-1].values\n",
        "y = dataset.iloc[:, -1].values"
      ],
      "metadata": {
        "id": "1kKCag5Lyz6f",
        "outputId": "f0608a93-e83b-49d9-bad2-fb9d17265574",
        "colab": {
          "base_uri": "https://localhost:8080/"
        }
      },
      "execution_count": 3,
      "outputs": [
        {
          "output_type": "stream",
          "name": "stdout",
          "text": [
            "      id_customer  invoice_year  total_paid\n",
            "0               1          2016        3670\n",
            "1               1          2017        5074\n",
            "2               1          2018        2408\n",
            "3               1          2019        4561\n",
            "4               1          2020        2547\n",
            "...           ...           ...         ...\n",
            "5010         5895          2022         848\n",
            "5011         5993          2023         828\n",
            "5012         6053          2023         502\n",
            "5013         6078          2023         716\n",
            "5014         6122          2023         435\n",
            "\n",
            "[5015 rows x 3 columns]\n"
          ]
        }
      ]
    },
    {
      "cell_type": "markdown",
      "metadata": {
        "id": "VC6omXel_Up0"
      },
      "source": [
        "### Splitting the dataset into the Training set and Test set"
      ]
    },
    {
      "cell_type": "code",
      "metadata": {
        "id": "L5edeb2r_agx"
      },
      "source": [
        "from sklearn.model_selection import train_test_split\n",
        "X_train, X_test, y_train, y_test = train_test_split(X, y, test_size = 0.2, random_state = 0)"
      ],
      "execution_count": 4,
      "outputs": []
    },
    {
      "cell_type": "markdown",
      "metadata": {
        "id": "_mSLlAT9_eyI"
      },
      "source": [
        "## Part 2 - Building the ANN"
      ]
    },
    {
      "cell_type": "markdown",
      "metadata": {
        "id": "CsBULd_f_wLY"
      },
      "source": [
        "### Initializing the ANN"
      ]
    },
    {
      "cell_type": "code",
      "metadata": {
        "id": "J6Hd97Ls__Nz"
      },
      "source": [
        "ann = tf.keras.models.Sequential()"
      ],
      "execution_count": 5,
      "outputs": []
    },
    {
      "cell_type": "markdown",
      "metadata": {
        "id": "iitAFJS_ABUn"
      },
      "source": [
        "### Adding the input layer and the first hidden layer"
      ]
    },
    {
      "cell_type": "code",
      "metadata": {
        "id": "ksO_Vv40AHix"
      },
      "source": [
        "ann.add(tf.keras.layers.Dense(units=10, activation='elu'))"
      ],
      "execution_count": 6,
      "outputs": []
    },
    {
      "cell_type": "markdown",
      "metadata": {
        "id": "-lb4kK_wAKbs"
      },
      "source": [
        "### Adding the second hidden layer"
      ]
    },
    {
      "cell_type": "code",
      "metadata": {
        "id": "c2357OqEAQOQ"
      },
      "source": [
        "ann.add(tf.keras.layers.Dense(units=10, activation='elu'))"
      ],
      "execution_count": 7,
      "outputs": []
    },
    {
      "cell_type": "markdown",
      "metadata": {
        "id": "jwMOmKb3AdBY"
      },
      "source": [
        "### Adding the output layer"
      ]
    },
    {
      "cell_type": "code",
      "metadata": {
        "id": "YFATpzsUAkLL"
      },
      "source": [
        "ann.add(tf.keras.layers.Dense(units=1))"
      ],
      "execution_count": 8,
      "outputs": []
    },
    {
      "cell_type": "markdown",
      "metadata": {
        "id": "fq7e4fF6A1yy"
      },
      "source": [
        "## Part 3 - Training the ANN"
      ]
    },
    {
      "cell_type": "markdown",
      "metadata": {
        "id": "qDeylAs2An25"
      },
      "source": [
        "### Compiling the ANN"
      ]
    },
    {
      "cell_type": "code",
      "metadata": {
        "id": "pesgbWlCAtB4"
      },
      "source": [
        "# ann.compile(optimizer = 'adam', loss = 'mean_squared_error')\n",
        "ann.compile(optimizer = 'adam', loss=tf.keras.losses.MeanAbsoluteError())\n"
      ],
      "execution_count": 9,
      "outputs": []
    },
    {
      "cell_type": "markdown",
      "metadata": {
        "id": "YjVuiybYOo7r"
      },
      "source": [
        "### Training the ANN model on the Training set"
      ]
    },
    {
      "cell_type": "code",
      "metadata": {
        "id": "c_vV-tiiA5zn",
        "colab": {
          "base_uri": "https://localhost:8080/"
        },
        "outputId": "419295f4-ccec-4154-d6cf-793088c11941"
      },
      "source": [
        "ann.fit(X_train, y_train, batch_size = 32, epochs = 200)"
      ],
      "execution_count": 10,
      "outputs": [
        {
          "output_type": "stream",
          "name": "stdout",
          "text": [
            "Epoch 1/200\n",
            "126/126 [==============================] - 1s 2ms/step - loss: 5670.3955\n",
            "Epoch 2/200\n",
            "126/126 [==============================] - 0s 2ms/step - loss: 5592.7461\n",
            "Epoch 3/200\n",
            "126/126 [==============================] - 0s 2ms/step - loss: 5542.6152\n",
            "Epoch 4/200\n",
            "126/126 [==============================] - 0s 2ms/step - loss: 5504.0137\n",
            "Epoch 5/200\n",
            "126/126 [==============================] - 0s 2ms/step - loss: 5493.9302\n",
            "Epoch 6/200\n",
            "126/126 [==============================] - 0s 2ms/step - loss: 5491.0869\n",
            "Epoch 7/200\n",
            "126/126 [==============================] - 0s 2ms/step - loss: 5490.7388\n",
            "Epoch 8/200\n",
            "126/126 [==============================] - 0s 2ms/step - loss: 5490.4937\n",
            "Epoch 9/200\n",
            "126/126 [==============================] - 0s 3ms/step - loss: 5489.8916\n",
            "Epoch 10/200\n",
            "126/126 [==============================] - 0s 3ms/step - loss: 5489.1621\n",
            "Epoch 11/200\n",
            "126/126 [==============================] - 0s 3ms/step - loss: 5489.4761\n",
            "Epoch 12/200\n",
            "126/126 [==============================] - 0s 3ms/step - loss: 5489.6006\n",
            "Epoch 13/200\n",
            "126/126 [==============================] - 0s 3ms/step - loss: 5488.8384\n",
            "Epoch 14/200\n",
            "126/126 [==============================] - 0s 3ms/step - loss: 5489.8525\n",
            "Epoch 15/200\n",
            "126/126 [==============================] - 0s 3ms/step - loss: 5489.5107\n",
            "Epoch 16/200\n",
            "126/126 [==============================] - 0s 3ms/step - loss: 5489.6260\n",
            "Epoch 17/200\n",
            "126/126 [==============================] - 0s 3ms/step - loss: 5488.6606\n",
            "Epoch 18/200\n",
            "126/126 [==============================] - 0s 3ms/step - loss: 5488.6089\n",
            "Epoch 19/200\n",
            "126/126 [==============================] - 0s 3ms/step - loss: 5488.9131\n",
            "Epoch 20/200\n",
            "126/126 [==============================] - 0s 3ms/step - loss: 5488.4004\n",
            "Epoch 21/200\n",
            "126/126 [==============================] - 0s 3ms/step - loss: 5488.5664\n",
            "Epoch 22/200\n",
            "126/126 [==============================] - 0s 2ms/step - loss: 5488.4536\n",
            "Epoch 23/200\n",
            "126/126 [==============================] - 0s 2ms/step - loss: 5488.5552\n",
            "Epoch 24/200\n",
            "126/126 [==============================] - 0s 2ms/step - loss: 5488.2852\n",
            "Epoch 25/200\n",
            "126/126 [==============================] - 0s 2ms/step - loss: 5488.6968\n",
            "Epoch 26/200\n",
            "126/126 [==============================] - 0s 2ms/step - loss: 5489.1333\n",
            "Epoch 27/200\n",
            "126/126 [==============================] - 0s 2ms/step - loss: 5488.8237\n",
            "Epoch 28/200\n",
            "126/126 [==============================] - 0s 2ms/step - loss: 5487.3418\n",
            "Epoch 29/200\n",
            "126/126 [==============================] - 0s 2ms/step - loss: 5489.5317\n",
            "Epoch 30/200\n",
            "126/126 [==============================] - 0s 2ms/step - loss: 5488.2690\n",
            "Epoch 31/200\n",
            "126/126 [==============================] - 0s 2ms/step - loss: 5488.4351\n",
            "Epoch 32/200\n",
            "126/126 [==============================] - 0s 2ms/step - loss: 5488.8281\n",
            "Epoch 33/200\n",
            "126/126 [==============================] - 0s 2ms/step - loss: 5488.2954\n",
            "Epoch 34/200\n",
            "126/126 [==============================] - 0s 2ms/step - loss: 5488.3086\n",
            "Epoch 35/200\n",
            "126/126 [==============================] - 0s 2ms/step - loss: 5487.9971\n",
            "Epoch 36/200\n",
            "126/126 [==============================] - 0s 2ms/step - loss: 5488.9937\n",
            "Epoch 37/200\n",
            "126/126 [==============================] - 0s 2ms/step - loss: 5488.1440\n",
            "Epoch 38/200\n",
            "126/126 [==============================] - 0s 2ms/step - loss: 5488.3354\n",
            "Epoch 39/200\n",
            "126/126 [==============================] - 0s 2ms/step - loss: 5489.0073\n",
            "Epoch 40/200\n",
            "126/126 [==============================] - 0s 2ms/step - loss: 5487.9746\n",
            "Epoch 41/200\n",
            "126/126 [==============================] - 0s 2ms/step - loss: 5489.3096\n",
            "Epoch 42/200\n",
            "126/126 [==============================] - 0s 2ms/step - loss: 5488.3501\n",
            "Epoch 43/200\n",
            "126/126 [==============================] - 0s 2ms/step - loss: 5488.2578\n",
            "Epoch 44/200\n",
            "126/126 [==============================] - 0s 2ms/step - loss: 5488.2114\n",
            "Epoch 45/200\n",
            "126/126 [==============================] - 0s 2ms/step - loss: 5487.4053\n",
            "Epoch 46/200\n",
            "126/126 [==============================] - 0s 2ms/step - loss: 5488.0806\n",
            "Epoch 47/200\n",
            "126/126 [==============================] - 0s 2ms/step - loss: 5488.1899\n",
            "Epoch 48/200\n",
            "126/126 [==============================] - 0s 2ms/step - loss: 5487.6406\n",
            "Epoch 49/200\n",
            "126/126 [==============================] - 0s 2ms/step - loss: 5488.3472\n",
            "Epoch 50/200\n",
            "126/126 [==============================] - 0s 2ms/step - loss: 5487.8608\n",
            "Epoch 51/200\n",
            "126/126 [==============================] - 0s 2ms/step - loss: 5487.9507\n",
            "Epoch 52/200\n",
            "126/126 [==============================] - 0s 2ms/step - loss: 5488.1641\n",
            "Epoch 53/200\n",
            "126/126 [==============================] - 0s 2ms/step - loss: 5487.8975\n",
            "Epoch 54/200\n",
            "126/126 [==============================] - 0s 2ms/step - loss: 5488.4819\n",
            "Epoch 55/200\n",
            "126/126 [==============================] - 0s 2ms/step - loss: 5487.5415\n",
            "Epoch 56/200\n",
            "126/126 [==============================] - 0s 2ms/step - loss: 5487.8726\n",
            "Epoch 57/200\n",
            "126/126 [==============================] - 0s 2ms/step - loss: 5487.7383\n",
            "Epoch 58/200\n",
            "126/126 [==============================] - 0s 2ms/step - loss: 5488.3628\n",
            "Epoch 59/200\n",
            "126/126 [==============================] - 0s 2ms/step - loss: 5487.9829\n",
            "Epoch 60/200\n",
            "126/126 [==============================] - 0s 2ms/step - loss: 5487.4414\n",
            "Epoch 61/200\n",
            "126/126 [==============================] - 0s 2ms/step - loss: 5488.5312\n",
            "Epoch 62/200\n",
            "126/126 [==============================] - 0s 2ms/step - loss: 5488.3262\n",
            "Epoch 63/200\n",
            "126/126 [==============================] - 0s 3ms/step - loss: 5487.9307\n",
            "Epoch 64/200\n",
            "126/126 [==============================] - 0s 3ms/step - loss: 5487.6924\n",
            "Epoch 65/200\n",
            "126/126 [==============================] - 0s 3ms/step - loss: 5488.4102\n",
            "Epoch 66/200\n",
            "126/126 [==============================] - 0s 3ms/step - loss: 5488.0430\n",
            "Epoch 67/200\n",
            "126/126 [==============================] - 0s 3ms/step - loss: 5488.0518\n",
            "Epoch 68/200\n",
            "126/126 [==============================] - 0s 3ms/step - loss: 5487.1206\n",
            "Epoch 69/200\n",
            "126/126 [==============================] - 0s 3ms/step - loss: 5487.7793\n",
            "Epoch 70/200\n",
            "126/126 [==============================] - 0s 3ms/step - loss: 5488.4551\n",
            "Epoch 71/200\n",
            "126/126 [==============================] - 0s 3ms/step - loss: 5488.4146\n",
            "Epoch 72/200\n",
            "126/126 [==============================] - 0s 3ms/step - loss: 5487.9116\n",
            "Epoch 73/200\n",
            "126/126 [==============================] - 0s 3ms/step - loss: 5487.8848\n",
            "Epoch 74/200\n",
            "126/126 [==============================] - 0s 3ms/step - loss: 5488.1514\n",
            "Epoch 75/200\n",
            "126/126 [==============================] - 0s 3ms/step - loss: 5487.4185\n",
            "Epoch 76/200\n",
            "126/126 [==============================] - 0s 2ms/step - loss: 5488.6025\n",
            "Epoch 77/200\n",
            "126/126 [==============================] - 0s 2ms/step - loss: 5488.0898\n",
            "Epoch 78/200\n",
            "126/126 [==============================] - 0s 2ms/step - loss: 5488.4458\n",
            "Epoch 79/200\n",
            "126/126 [==============================] - 0s 2ms/step - loss: 5487.9595\n",
            "Epoch 80/200\n",
            "126/126 [==============================] - 0s 2ms/step - loss: 5488.0361\n",
            "Epoch 81/200\n",
            "126/126 [==============================] - 0s 2ms/step - loss: 5488.3589\n",
            "Epoch 82/200\n",
            "126/126 [==============================] - 0s 2ms/step - loss: 5487.8418\n",
            "Epoch 83/200\n",
            "126/126 [==============================] - 0s 2ms/step - loss: 5488.3169\n",
            "Epoch 84/200\n",
            "126/126 [==============================] - 0s 2ms/step - loss: 5488.4946\n",
            "Epoch 85/200\n",
            "126/126 [==============================] - 0s 2ms/step - loss: 5487.8042\n",
            "Epoch 86/200\n",
            "126/126 [==============================] - 0s 2ms/step - loss: 5487.6743\n",
            "Epoch 87/200\n",
            "126/126 [==============================] - 0s 2ms/step - loss: 5487.8579\n",
            "Epoch 88/200\n",
            "126/126 [==============================] - 0s 2ms/step - loss: 5488.1030\n",
            "Epoch 89/200\n",
            "126/126 [==============================] - 0s 2ms/step - loss: 5487.6558\n",
            "Epoch 90/200\n",
            "126/126 [==============================] - 0s 2ms/step - loss: 5488.1245\n",
            "Epoch 91/200\n",
            "126/126 [==============================] - 0s 2ms/step - loss: 5487.8413\n",
            "Epoch 92/200\n",
            "126/126 [==============================] - 0s 2ms/step - loss: 5488.3296\n",
            "Epoch 93/200\n",
            "126/126 [==============================] - 0s 2ms/step - loss: 5488.4526\n",
            "Epoch 94/200\n",
            "126/126 [==============================] - 0s 2ms/step - loss: 5488.4194\n",
            "Epoch 95/200\n",
            "126/126 [==============================] - 0s 2ms/step - loss: 5487.9834\n",
            "Epoch 96/200\n",
            "126/126 [==============================] - 0s 2ms/step - loss: 5489.3433\n",
            "Epoch 97/200\n",
            "126/126 [==============================] - 0s 2ms/step - loss: 5488.2451\n",
            "Epoch 98/200\n",
            "126/126 [==============================] - 0s 2ms/step - loss: 5488.2173\n",
            "Epoch 99/200\n",
            "126/126 [==============================] - 0s 2ms/step - loss: 5487.8906\n",
            "Epoch 100/200\n",
            "126/126 [==============================] - 0s 2ms/step - loss: 5487.4995\n",
            "Epoch 101/200\n",
            "126/126 [==============================] - 0s 2ms/step - loss: 5488.1841\n",
            "Epoch 102/200\n",
            "126/126 [==============================] - 0s 2ms/step - loss: 5488.1104\n",
            "Epoch 103/200\n",
            "126/126 [==============================] - 0s 2ms/step - loss: 5488.9648\n",
            "Epoch 104/200\n",
            "126/126 [==============================] - 0s 2ms/step - loss: 5487.9917\n",
            "Epoch 105/200\n",
            "126/126 [==============================] - 0s 2ms/step - loss: 5487.4614\n",
            "Epoch 106/200\n",
            "126/126 [==============================] - 0s 2ms/step - loss: 5487.2930\n",
            "Epoch 107/200\n",
            "126/126 [==============================] - 0s 2ms/step - loss: 5488.2490\n",
            "Epoch 108/200\n",
            "126/126 [==============================] - 0s 2ms/step - loss: 5488.6021\n",
            "Epoch 109/200\n",
            "126/126 [==============================] - 0s 2ms/step - loss: 5488.0039\n",
            "Epoch 110/200\n",
            "126/126 [==============================] - 0s 2ms/step - loss: 5488.4194\n",
            "Epoch 111/200\n",
            "126/126 [==============================] - 0s 2ms/step - loss: 5487.0649\n",
            "Epoch 112/200\n",
            "126/126 [==============================] - 0s 2ms/step - loss: 5488.1689\n",
            "Epoch 113/200\n",
            "126/126 [==============================] - 0s 2ms/step - loss: 5488.5493\n",
            "Epoch 114/200\n",
            "126/126 [==============================] - 0s 2ms/step - loss: 5487.4390\n",
            "Epoch 115/200\n",
            "126/126 [==============================] - 0s 2ms/step - loss: 5487.7480\n",
            "Epoch 116/200\n",
            "126/126 [==============================] - 0s 3ms/step - loss: 5488.1479\n",
            "Epoch 117/200\n",
            "126/126 [==============================] - 0s 3ms/step - loss: 5487.7505\n",
            "Epoch 118/200\n",
            "126/126 [==============================] - 0s 3ms/step - loss: 5488.4512\n",
            "Epoch 119/200\n",
            "126/126 [==============================] - 0s 3ms/step - loss: 5487.9956\n",
            "Epoch 120/200\n",
            "126/126 [==============================] - 0s 3ms/step - loss: 5487.9492\n",
            "Epoch 121/200\n",
            "126/126 [==============================] - 0s 3ms/step - loss: 5488.4375\n",
            "Epoch 122/200\n",
            "126/126 [==============================] - 0s 3ms/step - loss: 5487.6992\n",
            "Epoch 123/200\n",
            "126/126 [==============================] - 0s 3ms/step - loss: 5487.4189\n",
            "Epoch 124/200\n",
            "126/126 [==============================] - 0s 3ms/step - loss: 5487.5840\n",
            "Epoch 125/200\n",
            "126/126 [==============================] - 0s 3ms/step - loss: 5488.2295\n",
            "Epoch 126/200\n",
            "126/126 [==============================] - 0s 2ms/step - loss: 5488.1201\n",
            "Epoch 127/200\n",
            "126/126 [==============================] - 0s 2ms/step - loss: 5487.7612\n",
            "Epoch 128/200\n",
            "126/126 [==============================] - 0s 3ms/step - loss: 5487.9370\n",
            "Epoch 129/200\n",
            "126/126 [==============================] - 0s 3ms/step - loss: 5487.9380\n",
            "Epoch 130/200\n",
            "126/126 [==============================] - 0s 2ms/step - loss: 5487.5864\n",
            "Epoch 131/200\n",
            "126/126 [==============================] - 0s 2ms/step - loss: 5488.1504\n",
            "Epoch 132/200\n",
            "126/126 [==============================] - 0s 2ms/step - loss: 5488.1094\n",
            "Epoch 133/200\n",
            "126/126 [==============================] - 0s 2ms/step - loss: 5487.3311\n",
            "Epoch 134/200\n",
            "126/126 [==============================] - 0s 2ms/step - loss: 5488.4214\n",
            "Epoch 135/200\n",
            "126/126 [==============================] - 0s 2ms/step - loss: 5488.2900\n",
            "Epoch 136/200\n",
            "126/126 [==============================] - 0s 2ms/step - loss: 5487.5278\n",
            "Epoch 137/200\n",
            "126/126 [==============================] - 0s 2ms/step - loss: 5487.9624\n",
            "Epoch 138/200\n",
            "126/126 [==============================] - 0s 2ms/step - loss: 5487.9941\n",
            "Epoch 139/200\n",
            "126/126 [==============================] - 0s 2ms/step - loss: 5488.2905\n",
            "Epoch 140/200\n",
            "126/126 [==============================] - 0s 2ms/step - loss: 5487.8809\n",
            "Epoch 141/200\n",
            "126/126 [==============================] - 0s 2ms/step - loss: 5488.4717\n",
            "Epoch 142/200\n",
            "126/126 [==============================] - 0s 2ms/step - loss: 5488.2988\n",
            "Epoch 143/200\n",
            "126/126 [==============================] - 0s 2ms/step - loss: 5487.2954\n",
            "Epoch 144/200\n",
            "126/126 [==============================] - 0s 2ms/step - loss: 5488.2827\n",
            "Epoch 145/200\n",
            "126/126 [==============================] - 0s 2ms/step - loss: 5487.8940\n",
            "Epoch 146/200\n",
            "126/126 [==============================] - 0s 2ms/step - loss: 5488.0825\n",
            "Epoch 147/200\n",
            "126/126 [==============================] - 0s 2ms/step - loss: 5487.7656\n",
            "Epoch 148/200\n",
            "126/126 [==============================] - 0s 2ms/step - loss: 5488.0444\n",
            "Epoch 149/200\n",
            "126/126 [==============================] - 0s 2ms/step - loss: 5487.7432\n",
            "Epoch 150/200\n",
            "126/126 [==============================] - 0s 2ms/step - loss: 5488.3442\n",
            "Epoch 151/200\n",
            "126/126 [==============================] - 0s 2ms/step - loss: 5488.2534\n",
            "Epoch 152/200\n",
            "126/126 [==============================] - 0s 2ms/step - loss: 5487.9424\n",
            "Epoch 153/200\n",
            "126/126 [==============================] - 0s 2ms/step - loss: 5488.3384\n",
            "Epoch 154/200\n",
            "126/126 [==============================] - 0s 2ms/step - loss: 5487.8467\n",
            "Epoch 155/200\n",
            "126/126 [==============================] - 0s 2ms/step - loss: 5487.7285\n",
            "Epoch 156/200\n",
            "126/126 [==============================] - 0s 2ms/step - loss: 5487.1826\n",
            "Epoch 157/200\n",
            "126/126 [==============================] - 0s 2ms/step - loss: 5487.4287\n",
            "Epoch 158/200\n",
            "126/126 [==============================] - 0s 2ms/step - loss: 5487.5698\n",
            "Epoch 159/200\n",
            "126/126 [==============================] - 0s 2ms/step - loss: 5488.4722\n",
            "Epoch 160/200\n",
            "126/126 [==============================] - 0s 2ms/step - loss: 5488.5874\n",
            "Epoch 161/200\n",
            "126/126 [==============================] - 0s 2ms/step - loss: 5487.9077\n",
            "Epoch 162/200\n",
            "126/126 [==============================] - 0s 2ms/step - loss: 5488.4385\n",
            "Epoch 163/200\n",
            "126/126 [==============================] - 0s 2ms/step - loss: 5487.8350\n",
            "Epoch 164/200\n",
            "126/126 [==============================] - 0s 2ms/step - loss: 5488.4102\n",
            "Epoch 165/200\n",
            "126/126 [==============================] - 0s 2ms/step - loss: 5487.6973\n",
            "Epoch 166/200\n",
            "126/126 [==============================] - 0s 2ms/step - loss: 5487.7563\n",
            "Epoch 167/200\n",
            "126/126 [==============================] - 0s 2ms/step - loss: 5488.1045\n",
            "Epoch 168/200\n",
            "126/126 [==============================] - 0s 2ms/step - loss: 5488.0342\n",
            "Epoch 169/200\n",
            "126/126 [==============================] - 0s 3ms/step - loss: 5487.7637\n",
            "Epoch 170/200\n",
            "126/126 [==============================] - 0s 3ms/step - loss: 5487.7397\n",
            "Epoch 171/200\n",
            "126/126 [==============================] - 0s 3ms/step - loss: 5487.9111\n",
            "Epoch 172/200\n",
            "126/126 [==============================] - 0s 3ms/step - loss: 5486.6743\n",
            "Epoch 173/200\n",
            "126/126 [==============================] - 0s 3ms/step - loss: 5488.8428\n",
            "Epoch 174/200\n",
            "126/126 [==============================] - 0s 3ms/step - loss: 5487.4175\n",
            "Epoch 175/200\n",
            "126/126 [==============================] - 0s 3ms/step - loss: 5488.4800\n",
            "Epoch 176/200\n",
            "126/126 [==============================] - 0s 3ms/step - loss: 5487.6733\n",
            "Epoch 177/200\n",
            "126/126 [==============================] - 0s 3ms/step - loss: 5488.3257\n",
            "Epoch 178/200\n",
            "126/126 [==============================] - 0s 3ms/step - loss: 5487.5967\n",
            "Epoch 179/200\n",
            "126/126 [==============================] - 0s 3ms/step - loss: 5487.9453\n",
            "Epoch 180/200\n",
            "126/126 [==============================] - 0s 3ms/step - loss: 5486.6621\n",
            "Epoch 181/200\n",
            "126/126 [==============================] - 0s 3ms/step - loss: 5488.4595\n",
            "Epoch 182/200\n",
            "126/126 [==============================] - 0s 3ms/step - loss: 5487.6729\n",
            "Epoch 183/200\n",
            "126/126 [==============================] - 0s 2ms/step - loss: 5487.5869\n",
            "Epoch 184/200\n",
            "126/126 [==============================] - 0s 2ms/step - loss: 5488.2949\n",
            "Epoch 185/200\n",
            "126/126 [==============================] - 0s 2ms/step - loss: 5487.4355\n",
            "Epoch 186/200\n",
            "126/126 [==============================] - 0s 2ms/step - loss: 5487.1035\n",
            "Epoch 187/200\n",
            "126/126 [==============================] - 0s 2ms/step - loss: 5487.6060\n",
            "Epoch 188/200\n",
            "126/126 [==============================] - 0s 2ms/step - loss: 5487.6304\n",
            "Epoch 189/200\n",
            "126/126 [==============================] - 0s 2ms/step - loss: 5488.3306\n",
            "Epoch 190/200\n",
            "126/126 [==============================] - 0s 2ms/step - loss: 5489.0474\n",
            "Epoch 191/200\n",
            "126/126 [==============================] - 0s 2ms/step - loss: 5487.8784\n",
            "Epoch 192/200\n",
            "126/126 [==============================] - 0s 2ms/step - loss: 5488.0952\n",
            "Epoch 193/200\n",
            "126/126 [==============================] - 0s 2ms/step - loss: 5487.5190\n",
            "Epoch 194/200\n",
            "126/126 [==============================] - 0s 2ms/step - loss: 5487.6777\n",
            "Epoch 195/200\n",
            "126/126 [==============================] - 0s 2ms/step - loss: 5487.7407\n",
            "Epoch 196/200\n",
            "126/126 [==============================] - 0s 2ms/step - loss: 5487.6885\n",
            "Epoch 197/200\n",
            "126/126 [==============================] - 0s 2ms/step - loss: 5487.8789\n",
            "Epoch 198/200\n",
            "126/126 [==============================] - 0s 2ms/step - loss: 5488.6738\n",
            "Epoch 199/200\n",
            "126/126 [==============================] - 0s 2ms/step - loss: 5487.3760\n",
            "Epoch 200/200\n",
            "126/126 [==============================] - 0s 2ms/step - loss: 5487.8530\n"
          ]
        },
        {
          "output_type": "execute_result",
          "data": {
            "text/plain": [
              "<keras.src.callbacks.History at 0x78402e1bab00>"
            ]
          },
          "metadata": {},
          "execution_count": 10
        }
      ]
    },
    {
      "cell_type": "markdown",
      "metadata": {
        "id": "0H0zKKNEBLD5"
      },
      "source": [
        "### Predicting the results of the Test set"
      ]
    },
    {
      "cell_type": "code",
      "metadata": {
        "id": "IA0yApEmBG1X",
        "colab": {
          "base_uri": "https://localhost:8080/"
        },
        "outputId": "cfd542ad-fc07-4cf4-90c6-fbbc021b4c2d"
      },
      "source": [
        "y_pred = ann.predict(X_test)\n",
        "np.set_printoptions(precision=2)\n",
        "print(np.concatenate((y_pred.reshape(len(y_pred),1), y_test.reshape(len(y_test),1)),1))"
      ],
      "execution_count": 14,
      "outputs": [
        {
          "output_type": "stream",
          "name": "stdout",
          "text": [
            "32/32 [==============================] - 0s 1ms/step\n",
            "[[ 840.74 1419.  ]\n",
            " [ 957.03  156.  ]\n",
            " [ 936.89  292.  ]\n",
            " ...\n",
            " [1935.99  253.  ]\n",
            " [2165.67 1479.  ]\n",
            " [ 996.96  693.  ]]\n"
          ]
        }
      ]
    },
    {
      "cell_type": "code",
      "source": [
        "from google.colab import drive\n",
        "drive.mount('/content/drive')"
      ],
      "metadata": {
        "id": "OHfzv1CNrMQG",
        "outputId": "95133cca-c781-4ff8-d5a1-3b1445cecfbe",
        "colab": {
          "base_uri": "https://localhost:8080/"
        }
      },
      "execution_count": 1,
      "outputs": [
        {
          "output_type": "stream",
          "name": "stdout",
          "text": [
            "Mounted at /content/drive\n"
          ]
        }
      ]
    }
  ]
}